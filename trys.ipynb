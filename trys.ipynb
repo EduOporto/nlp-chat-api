{
 "cells": [
  {
   "cell_type": "code",
   "execution_count": 1,
   "metadata": {},
   "outputs": [],
   "source": [
    "from users import pablo_hasher"
   ]
  },
  {
   "cell_type": "code",
   "execution_count": 2,
   "metadata": {},
   "outputs": [],
   "source": [
    "hashed_pass, salt = pablo_hasher('rockymountainhigh')"
   ]
  },
  {
   "cell_type": "code",
   "execution_count": 3,
   "metadata": {},
   "outputs": [
    {
     "data": {
      "text/plain": [
       "True"
      ]
     },
     "execution_count": 3,
     "metadata": {},
     "output_type": "execute_result"
    }
   ],
   "source": [
    "pablo_hasher('rockymountainhigh', salt) == hashed_pass"
   ]
  },
  {
   "cell_type": "code",
   "execution_count": 4,
   "metadata": {},
   "outputs": [
    {
     "data": {
      "text/plain": [
       "b'\\xe6\\xfa\\xa2\\x1b\\x89\\x89R\\xcf\\xbb\\x0e\\x8f\\xec3\\xbe\\xa6N\\xd9Sq\\x95\\xc9R\\xf5\\xb7\\x18u\\x7f\\xea\\x8a\\xd2s\\xac\\xda\\xbde\\xc5\\x94\\x94\\xfa\\xec\\x8f\\x05=M\\x90]a;\\xf9\\x99\\xea\\x80\\xaaY{\\xef\\x1a\\x1ae\\t(\\x0c\\xa7\\xa4\\xa2K2\\x00\\x0cu3\\xce\\xa4\\xdd\\x06\\xb0\"k\\x10;\\xbc:\\x08&\\x05\\xfe\\x82\\x9f\\xcf\\xd4c\\x123w\\xddJK\\xdfZW\\x90?_\\x1a?\\x0e\\x9d1\\xa8\\xf2\\xd2d\\xae_\\t\\x813\\x13\\xebY\\xbf\\xd1\\x8e\\x9d&\\x07A\\xc9'"
      ]
     },
     "execution_count": 4,
     "metadata": {},
     "output_type": "execute_result"
    }
   ],
   "source": [
    "hashed_pass"
   ]
  },
  {
   "cell_type": "code",
   "execution_count": null,
   "metadata": {},
   "outputs": [],
   "source": []
  }
 ],
 "metadata": {
  "kernelspec": {
   "display_name": "Python 3",
   "language": "python",
   "name": "python3"
  },
  "language_info": {
   "codemirror_mode": {
    "name": "ipython",
    "version": 3
   },
   "file_extension": ".py",
   "mimetype": "text/x-python",
   "name": "python",
   "nbconvert_exporter": "python",
   "pygments_lexer": "ipython3",
   "version": "3.8.5"
  }
 },
 "nbformat": 4,
 "nbformat_minor": 4
}
